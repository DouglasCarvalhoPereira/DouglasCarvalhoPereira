{
  "nbformat": 4,
  "nbformat_minor": 0,
  "metadata": {
    "colab": {
      "name": "Trartamento_de_listas_Fit_Delivery.ipynb",
      "provenance": [],
      "collapsed_sections": [],
      "authorship_tag": "ABX9TyNJacMVdw8/EB7kbbuH1bEs",
      "include_colab_link": true
    },
    "kernelspec": {
      "name": "python3",
      "display_name": "Python 3"
    },
    "language_info": {
      "name": "python"
    }
  },
  "cells": [
    {
      "cell_type": "markdown",
      "metadata": {
        "id": "view-in-github",
        "colab_type": "text"
      },
      "source": [
        "<a href=\"https://colab.research.google.com/github/DouglasCarvalhoPereira/DouglasCarvalhoPereira/blob/main/Trartamento_de_listas_Fit_Delivery.ipynb\" target=\"_parent\"><img src=\"https://colab.research.google.com/assets/colab-badge.svg\" alt=\"Open In Colab\"/></a>"
      ]
    },
    {
      "cell_type": "code",
      "source": [
        "import pandas as pd\n",
        "\n",
        "df_bf = pd.read_csv(\"/content/clientes_bigfish-03-27.csv\", na_values='na')\n",
        "df_mkt = pd.read_csv(\"/content/lista_mktzap_27-03-22.csv\", na_values='na')\n",
        "df_nw = pd.read_csv(\"/content/newsletter_bigfish-03-27.csv\", na_values='na')\n",
        "df_nao_msg = pd.read_csv(\"/content/nao_msg_27.03.csv\", na_values='na')\n",
        "\n",
        "try:\n",
        "  df_geral = pd.read_csv(\"/content/lista_suporte.csv\", na_values='na')\n",
        "  df_final = pd.read_csv(\"/content/lista_final.csv\", na_values='na')\n",
        "except:\n",
        "  pass"
      ],
      "metadata": {
        "id": "su9eMYU_ewvT"
      },
      "execution_count": 38,
      "outputs": []
    },
    {
      "cell_type": "code",
      "source": [
        "df_bf = df_bf.drop([0, 1, 2, 3, 4, 6])"
      ],
      "metadata": {
        "id": "Q7usI4gh8j4D"
      },
      "execution_count": 39,
      "outputs": []
    },
    {
      "cell_type": "code",
      "source": [
        "lista_telefones = ['Telefone']\n",
        "nao_msg = ['Telefone']\n",
        "\n",
        "lista_final = ['Telefone']"
      ],
      "metadata": {
        "id": "f_0Preo2-Ywm"
      },
      "execution_count": 40,
      "outputs": []
    },
    {
      "cell_type": "markdown",
      "source": [
        "### Lista Bigfish"
      ],
      "metadata": {
        "id": "opOhQUha71dG"
      }
    },
    {
      "cell_type": "code",
      "source": [
        "for fone in df_bf['Celular']:\n",
        "  fone = str(fone)\n",
        "  ddd = fone[0:5]\n",
        "  ddd_new = '55' + fone[1:3]\n",
        "  telefone = fone.replace(ddd, ddd_new)\n",
        "  #doc.write(fone + '\\n')\n",
        "  lista_telefones.append(telefone)"
      ],
      "metadata": {
        "id": "q_NgvtEn8ki5"
      },
      "execution_count": 41,
      "outputs": []
    },
    {
      "cell_type": "code",
      "source": [
        "print(len(lista_telefones))"
      ],
      "metadata": {
        "colab": {
          "base_uri": "https://localhost:8080/"
        },
        "id": "vAuGR5f_zTKL",
        "outputId": "08ade968-1b00-4f0b-c273-a99cb56299b2"
      },
      "execution_count": 42,
      "outputs": [
        {
          "output_type": "stream",
          "name": "stdout",
          "text": [
            "3083\n"
          ]
        }
      ]
    },
    {
      "cell_type": "markdown",
      "source": [
        "##### Limpando os duplicados."
      ],
      "metadata": {
        "id": "502nhAK30Z2Z"
      }
    },
    {
      "cell_type": "code",
      "source": [
        "uniq_fone = list(dict.fromkeys(lista_telefones))\n",
        "print(len(uniq_fone))"
      ],
      "metadata": {
        "colab": {
          "base_uri": "https://localhost:8080/"
        },
        "id": "sMUks_3ZNZfU",
        "outputId": "032ebac8-e39c-4629-df65-20b4cd07e6be"
      },
      "execution_count": 43,
      "outputs": [
        {
          "output_type": "stream",
          "name": "stdout",
          "text": [
            "3042\n"
          ]
        }
      ]
    },
    {
      "cell_type": "markdown",
      "source": [
        "### Lista MktZap"
      ],
      "metadata": {
        "id": "VvGAXstSmcem"
      }
    },
    {
      "cell_type": "code",
      "source": [
        "df_mkt = df_mkt.drop(['Protocol', 'Data contato', 'Data criação', 'Início Atendimento', 'Atendido', 'Data conclusão', 'Última mensagem', 'Tipo Canal','Canal', 'Setor', 'Operador', 'Situação','Status', 'Tempo médio até ser atendidos', 'Tempo médio primeira espera', 'Tempo médio espera', 'Tempo médio operacional', 'Qtde Mensagens', 'Tempo médio atendimento', 'Nome'], axis=1)"
      ],
      "metadata": {
        "id": "gUglyu6U-Vab"
      },
      "execution_count": 44,
      "outputs": []
    },
    {
      "cell_type": "code",
      "source": [
        "df_mkt.dropna(axis=0, how='any', inplace=True)"
      ],
      "metadata": {
        "id": "slqfFb-s_SYw"
      },
      "execution_count": 45,
      "outputs": []
    },
    {
      "cell_type": "markdown",
      "source": [
        "##### Verificando quantidade de linhas."
      ],
      "metadata": {
        "id": "Kxyfm3751jry"
      }
    },
    {
      "cell_type": "code",
      "source": [
        "df_mkt.shape"
      ],
      "metadata": {
        "colab": {
          "base_uri": "https://localhost:8080/"
        },
        "id": "WvHodafQNnwi",
        "outputId": "816b5f4f-d899-4fdb-eefd-9ba1438e6159"
      },
      "execution_count": 46,
      "outputs": [
        {
          "output_type": "execute_result",
          "data": {
            "text/plain": [
              "(4168, 1)"
            ]
          },
          "metadata": {},
          "execution_count": 46
        }
      ]
    },
    {
      "cell_type": "markdown",
      "source": [
        "#### Limpando os duplicados da lista do MKTZAP"
      ],
      "metadata": {
        "id": "SEiUguse1eG2"
      }
    },
    {
      "cell_type": "code",
      "source": [
        "df_mkt = df_mkt.drop_duplicates()"
      ],
      "metadata": {
        "id": "71IbSh2v1QZX"
      },
      "execution_count": 47,
      "outputs": []
    },
    {
      "cell_type": "code",
      "source": [
        "#Quantidade de linhas faltantes\n",
        "df_mkt.shape"
      ],
      "metadata": {
        "colab": {
          "base_uri": "https://localhost:8080/"
        },
        "id": "K9CEAkgB1XAJ",
        "outputId": "c3431222-3090-44fd-dcc4-2e30574cac33"
      },
      "execution_count": 48,
      "outputs": [
        {
          "output_type": "execute_result",
          "data": {
            "text/plain": [
              "(2367, 1)"
            ]
          },
          "metadata": {},
          "execution_count": 48
        }
      ]
    },
    {
      "cell_type": "markdown",
      "source": [
        "### Adicionando os telefones da lista do MKTZAP a lista principal com todos os números."
      ],
      "metadata": {
        "id": "NxrT_5Bv3c0W"
      }
    },
    {
      "cell_type": "code",
      "source": [
        "for num in df_mkt['Telefone']:\n",
        "  fone = str(num)\n",
        "  lista_telefones.append(fone[:-2])"
      ],
      "metadata": {
        "id": "QdcNQkkFCAgB"
      },
      "execution_count": 49,
      "outputs": []
    },
    {
      "cell_type": "code",
      "source": [
        "lista_telefones = list(dict.fromkeys(lista_telefones))\n",
        "print(f'Lista de Telefones:', len(lista_telefones))"
      ],
      "metadata": {
        "colab": {
          "base_uri": "https://localhost:8080/"
        },
        "id": "JSqoy1_n17ZX",
        "outputId": "2929a33b-bd0f-410e-d89c-ae680a9402d4"
      },
      "execution_count": 50,
      "outputs": [
        {
          "output_type": "stream",
          "name": "stdout",
          "text": [
            "Lista de Telefones: 4039\n"
          ]
        }
      ]
    },
    {
      "cell_type": "markdown",
      "source": [
        "#### Excluido duplicatas da lista que não quer receber mensagem."
      ],
      "metadata": {
        "id": "LMKLIfmK3ylN"
      }
    },
    {
      "cell_type": "code",
      "source": [
        "for numero in df_nao_msg['Telefone']:\n",
        "  nao_msg.append(numero)"
      ],
      "metadata": {
        "id": "tZV26Zyo4DcS"
      },
      "execution_count": 51,
      "outputs": []
    },
    {
      "cell_type": "code",
      "source": [
        "nao_msg = list(dict.fromkeys(nao_msg))"
      ],
      "metadata": {
        "id": "LT9GHGUh3xfo"
      },
      "execution_count": 52,
      "outputs": []
    },
    {
      "cell_type": "markdown",
      "source": [
        "#### Verificando se o número está presente na lista dos que que não querem receber mensagem. Se sim ele não é adicionado na outra lista."
      ],
      "metadata": {
        "id": "57H25QPl-tEg"
      }
    },
    {
      "cell_type": "code",
      "source": [
        "for num in lista_telefones:\n",
        "    if num not in nao_msg:\n",
        "      lista_final.append(num)\n",
        "    else:\n",
        "      print('Número que não quer receber mensagens.')\n",
        "    \n",
        "print(len(lista_final))"
      ],
      "metadata": {
        "colab": {
          "base_uri": "https://localhost:8080/"
        },
        "id": "yOalU8AsoXSx",
        "outputId": "bb592282-84fc-4b53-c835-bfe1cf732f0a"
      },
      "execution_count": 53,
      "outputs": [
        {
          "output_type": "stream",
          "name": "stdout",
          "text": [
            "Número que não quer receber mensagens.\n",
            "4039\n"
          ]
        }
      ]
    },
    {
      "cell_type": "code",
      "source": [
        "doc = open(\"leads_fit_delivery.csv\", \"a\")\n",
        "for telefone in lista_final:\n",
        "  doc.write(telefone + ',\\n')"
      ],
      "metadata": {
        "id": "YmZdSiZhC-DX"
      },
      "execution_count": 54,
      "outputs": []
    }
  ]
}